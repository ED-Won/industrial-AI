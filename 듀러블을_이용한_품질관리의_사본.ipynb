{
  "nbformat": 4,
  "nbformat_minor": 0,
  "metadata": {
    "colab": {
      "name": "듀러블을 이용한 품질관리의 사본",
      "provenance": [],
      "collapsed_sections": [],
      "authorship_tag": "ABX9TyMhM1Y+WVzkjlVd65iEd4rM",
      "include_colab_link": true
    },
    "kernelspec": {
      "name": "python3",
      "display_name": "Python 3"
    },
    "language_info": {
      "name": "python"
    }
  },
  "cells": [
    {
      "cell_type": "markdown",
      "metadata": {
        "id": "view-in-github",
        "colab_type": "text"
      },
      "source": [
        "<a href=\"https://colab.research.google.com/github/ED-Won/industrial-AI/blob/master/%EB%93%80%EB%9F%AC%EB%B8%94%EC%9D%84_%EC%9D%B4%EC%9A%A9%ED%95%9C_%ED%92%88%EC%A7%88%EA%B4%80%EB%A6%AC%EC%9D%98_%EC%82%AC%EB%B3%B8.ipynb\" target=\"_parent\"><img src=\"https://colab.research.google.com/assets/colab-badge.svg\" alt=\"Open In Colab\"/></a>"
      ]
    },
    {
      "cell_type": "code",
      "metadata": {
        "colab": {
          "base_uri": "https://localhost:8080/"
        },
        "id": "aOBZBYaxxXDm",
        "outputId": "bc58601f-1f50-4e4a-a3fd-9a8406687188"
      },
      "source": [
        "!pip install durable_rules\n",
        "\n",
        "from durable.lang import *\n",
        "\n",
        "with ruleset('펫도어'):\n",
        "    @when_all(c.first << (m.predicate=='펫도어의') & (m.object == '품질검사법입니다'),\n",
        "              (m.predicate=='제품의상태중') & (m.object=='불량의경우는') & (m.subject==c.first.subject))\n",
        "    def 재단불량(c):\n",
        "        c.assert_fact({'subject':c.first.subject,'precate': '재단면이', 'object': '고르지않을 경우'})\n",
        "\n",
        "    @when_all((m.predicate == '제품의상태중') & (m.object=='불량의경우는'))\n",
        "    def 재단불량(c):\n",
        "        c.assert_fact({'subject': c.m.subject, 'precate':'재단면이','object':'거칠경우'})\n",
        "        \n",
        "    @when_all(c.first << (m.predicate=='펫도어의') & (m.object=='품질검사법입니다'),\n",
        "                  (m.predicate=='조립상태중 ') & (m.object=='불량의경우는') & (m.subject==c.first.subject))\n",
        "    def 도어불량(c):\n",
        "        c.assert_fact({'subject': c.first.subject, 'preicate': '도어가', 'object':'부드럽지 않을 경우' })\n",
        "        \n",
        "    @when_all((m.predicate == '제품의상태중') & (m.object=='불량의경우는'))\n",
        "    def 접착불량(c):\n",
        "        c.assert_fact({'subject': c.m.subject, 'precate':'접착부분이','object':'일어날경우'})\n",
        "\n",
        "    def 접착불량(c):\n",
        "        c.assert_fact({'subject': c.m.subject, 'precate':'마감재에','object':'주름이 있을경우'})\n",
        "        \n",
        "    @when_all((m.predicate== '조립상태중 ') & (m.object=='불량의경우는'))\n",
        "    def 형태불량(c):\n",
        "        c.assert_fact({'subject': c.m.subject, 'predicate': '재단이', 'object':'일정하지 않을 경우'})\n",
        "        \n",
        "    @when_all((m.predicate == '자재의상태중 ') & (m.object == '불량인경우는'))\n",
        "    def 잠금불량(c):\n",
        "        c.assert_fact({ 'subject': c.m.subject, 'predicate': '도어가', 'object': '작동되지 않을 경우'})\n",
        "        \n",
        "    @when_all((m.precate == \"조립상태중\") & (m.object == '불량인경우는')) \n",
        "    def 본딩불량(c):\n",
        "        c.assert_fact({'subject':c.m.subject, 'predicate': '본딩이 ', 'object': '지저분할 경우'})\n",
        "\n",
        "    @when_all((m.precate == \"출하준비중\") & (m.object == '불량인 경우')) \n",
        "    def 포장불량(c):\n",
        "        c.assert_fact({'subject':c.m.subject, 'predicate': '포장박스가 ', 'object': '찌그러지거나 파손될경우'})\n",
        "\n",
        "    @when_all((m.precate == \"출하준비중\") & (m.object == '불량인 경우')) \n",
        "    def 포장불량(c):\n",
        "        c.assert_fact({'subject':c.m.subject, 'predicate': '완충재가 ', 'object': '부족할경우'})\n",
        "\n",
        "    @when_all((m.precate == \"출하준비중\") & (m.object == '불량인 경우')) \n",
        "    def 포장불량(c):\n",
        "        c.assert_fact({'subject':c.m.subject, 'predicate': '포장박스가 ', 'object': '테이핑불량일 경우'})\n",
        "\n",
        "    @when_all((m.precate == \"출하준비중\") & (m.object == '불량인 경우')) \n",
        "    def 포장불량(c):\n",
        "        c.assert_fact({'subject':c.m.subject, 'predicate': '주소기입이 ', 'object': '누락될경우'})\n",
        "\n",
        "    def 포장불량(c):\n",
        "        c.assert_fact({'subject':c.m.subject, 'predicate': '주소기입이 ', 'object': '오기입될경우'})\n",
        "\n",
        "    @when_all(+m.subject)\n",
        "    def outfut(c):\n",
        "        print('Fact: {0} {1} {2}'. format(c.m.subject, c.m.predicate, c.m.object))\n",
        "        \n",
        "assert_fact('펫도어',{'subject':'조립불량', 'predicate': '재단면이', 'object': '고르지않을 경우'})\n",
        "assert_fact('펫도어',{'subject':'조립불량', 'predicate': '재단면이', 'object': '거칠 경우'})\n",
        "assert_fact('펫도어',{'subject':'조립불량', 'predicate': '마감재에', 'object': '주름이 있을경우'})\n",
        "assert_fact('펫도어',{'subject':'조립불량', 'predicate': '도어가', 'object': '부드럽지 않을 경우'})\n",
        "assert_fact('펫도어',{'subject':'조립불량', 'predicate': '도어가', 'object': '작동하지 않을 경우'})\n",
        "assert_fact('펫도어',{'subject':'조립불량', 'predicate': '접착면이', 'object': '일어날 경우'})\n",
        "assert_fact('펫도어',{'subject':'자재불량', 'predicate': '재단이','object': '일정하지 않을 경우'})\n",
        "assert_fact('펫도어',{'subject':'자재불량', 'predicate': '도어가','object': '작동하지 않을 경우'})\n",
        "assert_fact('펫도어',{'subject':'제작불량', 'predicate': '본딩이','object': '지저분할 경우'})\n",
        "assert_fact('펫도어',{'subject':'포장불량', 'predicate': '포장박스가','object': '찌그러지거나 파손될경우'})\n",
        "assert_fact('펫도어',{'subject':'포장불량', 'predicate': '포장박스가','object': '테이핑불량일 경우'})\n",
        "assert_fact('펫도어',{'subject':'포장불량', 'predicate': '완충재가','object': '부족할경우'})\n",
        "assert_fact('펫도어',{'subject':'포장불량', 'predicate': '주소가','object': '누락될경우'})\n",
        "assert_fact('펫도어',{'subject':'포장불량', 'predicate': '주소가','object': '오기입될경우'})\n",
        "assert_fact('펫도어',{'subject':'조립불량', 'predicate': '본딩이', 'object': '지저분할 경우'})"
      ],
      "execution_count": null,
      "outputs": [
        {
          "output_type": "stream",
          "text": [
            "Collecting durable_rules\n",
            "\u001b[?25l  Downloading https://files.pythonhosted.org/packages/91/f2/3194b4eaf7260bae0a4f046dfdda5db2ed9d58b3d7a051e375b3c14d8f26/durable_rules-2.0.28.tar.gz (57kB)\n",
            "\r\u001b[K     |█████▊                          | 10kB 12.4MB/s eta 0:00:01\r\u001b[K     |███████████▍                    | 20kB 13.7MB/s eta 0:00:01\r\u001b[K     |█████████████████               | 30kB 9.5MB/s eta 0:00:01\r\u001b[K     |██████████████████████▊         | 40kB 8.3MB/s eta 0:00:01\r\u001b[K     |████████████████████████████▌   | 51kB 5.1MB/s eta 0:00:01\r\u001b[K     |████████████████████████████████| 61kB 3.2MB/s \n",
            "\u001b[?25hBuilding wheels for collected packages: durable-rules\n",
            "  Building wheel for durable-rules (setup.py) ... \u001b[?25l\u001b[?25hdone\n",
            "  Created wheel for durable-rules: filename=durable_rules-2.0.28-cp37-cp37m-linux_x86_64.whl size=176354 sha256=b43339ccd85b4b665f9080e1a656a598b50a2bf5a4f192e8d0cf177153b72d5b\n",
            "  Stored in directory: /root/.cache/pip/wheels/97/f5/6b/dabbc5d4c2571374b0e0c49d8c80c449220d3061c20b057ba4\n",
            "Successfully built durable-rules\n",
            "Installing collected packages: durable-rules\n",
            "Successfully installed durable-rules-2.0.28\n",
            "Fact: 조립불량 재단면이 고르지않을 경우\n",
            "Fact: 조립불량 재단면이 거칠 경우\n",
            "Fact: 조립불량 마감재에 주름이 있을경우\n",
            "Fact: 조립불량 도어가 부드럽지 않을 경우\n",
            "Fact: 조립불량 도어가 작동하지 않을 경우\n",
            "Fact: 조립불량 접착면이 일어날 경우\n",
            "Fact: 자재불량 재단이 일정하지 않을 경우\n",
            "Fact: 자재불량 도어가 작동하지 않을 경우\n",
            "Fact: 제작불량 본딩이 지저분할 경우\n",
            "Fact: 포장불량 포장박스가 찌그러지거나 파손될경우\n",
            "Fact: 포장불량 포장박스가 테이핑불량일 경우\n",
            "Fact: 포장불량 완충재가 부족할경우\n",
            "Fact: 포장불량 주소가 누락될경우\n",
            "Fact: 포장불량 주소가 오기입될경우\n",
            "Fact: 조립불량 본딩이 지저분할 경우\n"
          ],
          "name": "stdout"
        },
        {
          "output_type": "execute_result",
          "data": {
            "text/plain": [
              "{'$s': 1, 'id': 'sid-0', 'sid': '0'}"
            ]
          },
          "metadata": {
            "tags": []
          },
          "execution_count": 1
        }
      ]
    }
  ]
}